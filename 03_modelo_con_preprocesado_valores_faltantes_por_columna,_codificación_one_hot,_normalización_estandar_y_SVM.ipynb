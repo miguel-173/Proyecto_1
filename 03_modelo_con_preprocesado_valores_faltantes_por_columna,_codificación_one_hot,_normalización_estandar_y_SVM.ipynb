{
  "nbformat": 4,
  "nbformat_minor": 0,
  "metadata": {
    "colab": {
      "provenance": [],
      "include_colab_link": true
    },
    "kernelspec": {
      "name": "python3",
      "display_name": "Python 3"
    },
    "language_info": {
      "name": "python"
    }
  },
  "cells": [
    {
      "cell_type": "markdown",
      "metadata": {
        "id": "view-in-github",
        "colab_type": "text"
      },
      "source": [
        "<a href=\"https://colab.research.google.com/github/miguel-173/Proyecto_1/blob/main/03_Modelo_con_preprocesado_valores_faltantes_por_columna%2C_codificaci%C3%B3n_one_hot%2C_normalizaci%C3%B3n_estandar_y_SVM.ipynb\" target=\"_parent\"><img src=\"https://colab.research.google.com/assets/colab-badge.svg\" alt=\"Open In Colab\"/></a>"
      ]
    },
    {
      "cell_type": "markdown",
      "source": [
        "#**PROYECTO IA 2024-1**\n",
        "\n",
        "\n",
        "##Carga de datos\n"
      ],
      "metadata": {
        "id": "untZG1k6ITJD"
      }
    },
    {
      "cell_type": "code",
      "execution_count": null,
      "metadata": {
        "id": "brqMXD8hbkAf"
      },
      "outputs": [],
      "source": [
        "#importar librerías para lectura Kaggle\n",
        "import pandas as pd\n",
        "import os\n",
        "from sklearn.model_selection import train_test_split\n",
        "from sklearn.preprocessing import MinMaxScaler, LabelEncoder\n",
        "from sklearn.ensemble import RandomForestClassifier\n",
        "from sklearn.metrics import accuracy_score, classification_report\n"
      ]
    },
    {
      "cell_type": "code",
      "source": [
        "os.environ['KAGGLE_CONFIG_DIR'] = \".\" #ubicación"
      ],
      "metadata": {
        "id": "xG1xx0RVeFus"
      },
      "execution_count": null,
      "outputs": []
    },
    {
      "cell_type": "code",
      "source": [
        "!kaggle competitions download -c udea-ai4eng-20241 #acceso a la información del Kaggle"
      ],
      "metadata": {
        "colab": {
          "base_uri": "https://localhost:8080/"
        },
        "id": "GfelLjahc965",
        "outputId": "1c905eae-8ab6-4330-87db-58108d69970a"
      },
      "execution_count": null,
      "outputs": [
        {
          "output_type": "stream",
          "name": "stdout",
          "text": [
            "Warning: Your Kaggle API key is readable by other users on this system! To fix this, you can run 'chmod 600 ./kaggle.json'\n",
            "udea-ai4eng-20241.zip: Skipping, found more recently modified local copy (use --force to force download)\n"
          ]
        }
      ]
    },
    {
      "cell_type": "code",
      "source": [
        "!unzip udea-ai4eng-20241.zip #descargar zip con data CSV"
      ],
      "metadata": {
        "id": "xAn4-_2oeu6e"
      },
      "execution_count": null,
      "outputs": []
    },
    {
      "cell_type": "code",
      "source": [
        "df = pd.read_csv(\"train.csv\") #lectura de datos\n"
      ],
      "metadata": {
        "id": "LkbMTbYOgr5U"
      },
      "execution_count": null,
      "outputs": []
    },
    {
      "cell_type": "markdown",
      "source": [
        "## 03 - Modelo con preprocesado valores faltantes por columna, codificación one hot, normalización estandar y SVM\n",
        "\n",
        "\n",
        "\n"
      ],
      "metadata": {
        "id": "8NN53kpAwOT0"
      }
    },
    {
      "cell_type": "code",
      "source": [
        "import pandas as pd\n",
        "from sklearn.model_selection import train_test_split\n",
        "from sklearn.preprocessing import StandardScaler\n",
        "from sklearn.svm import SVC\n",
        "from sklearn.metrics import classification_report, accuracy_score\n",
        "\n",
        "\n",
        "\n",
        "# Verificar valores faltantes\n",
        "print(\"Valores faltantes por columna:\")\n",
        "print(df.isnull().sum())\n",
        "\n",
        "# Eliminar filas con valores faltantes\n",
        "df_sin_nulos = df.dropna()\n",
        "\n",
        "# Codificación One-Hot\n",
        "df_codificado = pd.get_dummies(df)\n",
        "\n",
        "target_column = 'RENDIMIENTO_GLOBAL'\n",
        "# Separar características y objetivo\n",
        "X = df.drop(columns=[target_column])\n",
        "y = df[target_column]\n",
        "\n",
        "# Dividir los datos en conjuntos de entrenamiento y prueba\n",
        "X_train, X_test, y_train, y_test = train_test_split(X, y, test_size=0.2, random_state=42)\n",
        "\n",
        "# Normalización de los datos\n",
        "scaler = StandardScaler()\n",
        "X_train = scaler.fit_transform(X_train)\n",
        "X_test = scaler.transform(X_test)\n",
        "\n",
        "\n",
        "# Entrenar el modelo SVM\n",
        "svm = SVC(kernel='linear', C=1.0)\n",
        "svm.fit(X_train, y_train)\n"
      ],
      "metadata": {
        "id": "2_cpQZlopDAC",
        "collapsed": true
      },
      "execution_count": null,
      "outputs": []
    }
  ]
}
